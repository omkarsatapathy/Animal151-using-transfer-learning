{
 "cells": [
  {
   "cell_type": "code",
   "execution_count": 1,
   "metadata": {},
   "outputs": [
    {
     "name": "stdout",
     "output_type": "stream",
     "text": [
      "Init Plugin\n",
      "Init Graph Optimizer\n",
      "Init Kernel\n"
     ]
    }
   ],
   "source": [
    "import tensorflow as tf \n",
    "from tensorflow import keras"
   ]
  },
  {
   "cell_type": "code",
   "execution_count": 2,
   "metadata": {},
   "outputs": [
    {
     "data": {
      "text/plain": [
       "'2.5.0'"
      ]
     },
     "execution_count": 2,
     "metadata": {},
     "output_type": "execute_result"
    }
   ],
   "source": [
    "tf.__version__"
   ]
  },
  {
   "cell_type": "code",
   "execution_count": 3,
   "metadata": {},
   "outputs": [],
   "source": [
    "from keras.preprocessing.image import ImageDataGenerator\n",
    "\n",
    "train_data_dir = '/Volumes/My Data/Dataset/151 bird species/archive (1)/dataset/dataset'\n"
   ]
  },
  {
   "cell_type": "code",
   "execution_count": 4,
   "metadata": {},
   "outputs": [],
   "source": [
    "train_datagen = ImageDataGenerator(\n",
    "      rescale=1./255,\n",
    "      rotation_range=30,\n",
    "      width_shift_range=0.3,\n",
    "      height_shift_range=0.3,\n",
    "      horizontal_flip=True,\n",
    "      fill_mode='nearest',\n",
    "      validation_split=0.2)"
   ]
  },
  {
   "cell_type": "code",
   "execution_count": 5,
   "metadata": {},
   "outputs": [
    {
     "name": "stdout",
     "output_type": "stream",
     "text": [
      "Found 6270 images belonging to 151 classes.\n"
     ]
    }
   ],
   "source": [
    "train_generator = train_datagen.flow_from_directory(\n",
    "        train_data_dir,\n",
    "        target_size=(128,128),\n",
    "        batch_size =16,\n",
    "        class_mode='categorical',\n",
    "        shuffle=True)"
   ]
  },
  {
   "cell_type": "code",
   "execution_count": 6,
   "metadata": {},
   "outputs": [
    {
     "name": "stdout",
     "output_type": "stream",
     "text": [
      "Metal device set to: Apple M1 Pro\n",
      "\n",
      "systemMemory: 16.00 GB\n",
      "maxCacheSize: 5.33 GB\n",
      "\n"
     ]
    },
    {
     "name": "stderr",
     "output_type": "stream",
     "text": [
      "2022-02-17 19:06:07.796209: I tensorflow/core/common_runtime/pluggable_device/pluggable_device_factory.cc:305] Could not identify NUMA node of platform GPU ID 0, defaulting to 0. Your kernel may not have been built with NUMA support.\n",
      "2022-02-17 19:06:07.796844: I tensorflow/core/common_runtime/pluggable_device/pluggable_device_factory.cc:271] Created TensorFlow device (/job:localhost/replica:0/task:0/device:GPU:0 with 0 MB memory) -> physical PluggableDevice (device: 0, name: METAL, pci bus id: <undefined>)\n"
     ]
    }
   ],
   "source": [
    "model = keras.Sequential()\n",
    "model.add(keras.layers.Conv2D(64,(5,5),padding='Same',activation='relu',input_shape=(128,128,3)))\n",
    "model.add(keras.layers.MaxPooling2D(pool_size=(2,2)))\n",
    "model.add(keras.layers.Conv2D(128,(3,3),padding='Same',activation='relu'))\n",
    "model.add(keras.layers.MaxPooling2D(pool_size=(2,2),strides=(2,2)))\n",
    "\n",
    "model.add(keras.layers.Conv2D(128,(3,3),padding='Same',activation='relu'))\n",
    "model.add(keras.layers.MaxPooling2D(pool_size=(2,2)))\n",
    "\n",
    "model.add(keras.layers.Conv2D(96,(3,3),padding='Same',activation='relu'))\n",
    "model.add(keras.layers.MaxPooling2D(pool_size=(2,2),strides=(2,2)))\n",
    "\n",
    "model.add(keras.layers.Conv2D(128,(3,3),padding='Same',activation='relu'))\n",
    "model.add(keras.layers.MaxPooling2D(pool_size=(2,2)))\n",
    "\n",
    "model.add(keras.layers.Flatten())\n",
    "# model.add(keras.layers.Dense(512,activation='relu'))\n",
    "model.add(keras.layers.Dense(151,activation='softmax'))\n",
    "\n",
    "model.compile(loss = 'categorical_crossentropy',\n",
    "              optimizer = 'Adam',\n",
    "              metrics = ['accuracy'])\n"
   ]
  },
  {
   "cell_type": "code",
   "execution_count": 7,
   "metadata": {},
   "outputs": [
    {
     "name": "stderr",
     "output_type": "stream",
     "text": [
      "2022-02-17 19:06:19.710186: I tensorflow/compiler/mlir/mlir_graph_optimization_pass.cc:176] None of the MLIR Optimization Passes are enabled (registered 2)\n",
      "2022-02-17 19:06:19.711360: W tensorflow/core/platform/profile_utils/cpu_utils.cc:128] Failed to get CPU frequency: 0 Hz\n"
     ]
    },
    {
     "name": "stdout",
     "output_type": "stream",
     "text": [
      "Epoch 1/10\n"
     ]
    },
    {
     "name": "stderr",
     "output_type": "stream",
     "text": [
      "2022-02-17 19:06:19.917419: I tensorflow/core/grappler/optimizers/custom_graph_optimizer_registry.cc:112] Plugin optimizer for device_type GPU is enabled.\n"
     ]
    },
    {
     "name": "stdout",
     "output_type": "stream",
     "text": [
      "392/392 [==============================] - 26s 61ms/step - loss: 4.9906 - accuracy: 0.0097\n",
      "Epoch 2/10\n",
      "392/392 [==============================] - 23s 59ms/step - loss: 4.7611 - accuracy: 0.0238\n",
      "Epoch 3/10\n",
      "392/392 [==============================] - 23s 59ms/step - loss: 4.5218 - accuracy: 0.0488\n",
      "Epoch 4/10\n",
      "392/392 [==============================] - 23s 60ms/step - loss: 4.3619 - accuracy: 0.0627\n",
      "Epoch 5/10\n",
      "392/392 [==============================] - 24s 60ms/step - loss: 4.2288 - accuracy: 0.0742\n",
      "Epoch 6/10\n",
      "392/392 [==============================] - 24s 60ms/step - loss: 4.1445 - accuracy: 0.0911\n",
      "Epoch 7/10\n",
      "392/392 [==============================] - 23s 59ms/step - loss: 4.0168 - accuracy: 0.1019\n",
      "Epoch 8/10\n",
      "392/392 [==============================] - 23s 59ms/step - loss: 3.9155 - accuracy: 0.1215\n",
      "Epoch 9/10\n",
      "392/392 [==============================] - 23s 59ms/step - loss: 3.8100 - accuracy: 0.1317\n",
      "Epoch 10/10\n",
      "392/392 [==============================] - 23s 59ms/step - loss: 3.7060 - accuracy: 0.1482\n"
     ]
    },
    {
     "data": {
      "text/plain": [
       "<tensorflow.python.keras.callbacks.History at 0x164e79f70>"
      ]
     },
     "execution_count": 7,
     "metadata": {},
     "output_type": "execute_result"
    }
   ],
   "source": [
    "\n",
    "model.fit( train_generator, epochs =10,batch_size = 16)"
   ]
  },
  {
   "cell_type": "code",
   "execution_count": 12,
   "metadata": {},
   "outputs": [
    {
     "name": "stdout",
     "output_type": "stream",
     "text": [
      "Model: \"sequential_10\"\n",
      "_________________________________________________________________\n",
      "Layer (type)                 Output Shape              Param #   \n",
      "=================================================================\n",
      "inception_v3 (Functional)    (None, 2, 2, 2048)        21802784  \n",
      "_________________________________________________________________\n",
      "sequential_9 (Sequential)    (None, 151)               1237143   \n",
      "=================================================================\n",
      "Total params: 23,039,927\n",
      "Trainable params: 1,237,143\n",
      "Non-trainable params: 21,802,784\n",
      "_________________________________________________________________\n",
      "None\n",
      "Epoch 1/10\n"
     ]
    },
    {
     "name": "stderr",
     "output_type": "stream",
     "text": [
      "2022-02-17 19:17:08.119065: I tensorflow/core/grappler/optimizers/custom_graph_optimizer_registry.cc:112] Plugin optimizer for device_type GPU is enabled.\n"
     ]
    },
    {
     "name": "stdout",
     "output_type": "stream",
     "text": [
      "392/392 [==============================] - 20s 48ms/step - loss: 12.5180 - accuracy: 0.2375\n",
      "Epoch 2/10\n",
      "392/392 [==============================] - 18s 45ms/step - loss: 10.8659 - accuracy: 0.3786\n",
      "Epoch 3/10\n",
      "392/392 [==============================] - 17s 44ms/step - loss: 10.8270 - accuracy: 0.4238\n",
      "Epoch 4/10\n",
      "392/392 [==============================] - 17s 44ms/step - loss: 10.7719 - accuracy: 0.4596\n",
      "Epoch 5/10\n",
      "392/392 [==============================] - 17s 43ms/step - loss: 10.7330 - accuracy: 0.4831\n",
      "Epoch 6/10\n",
      "392/392 [==============================] - 18s 45ms/step - loss: 10.4588 - accuracy: 0.5065\n",
      "Epoch 7/10\n",
      "392/392 [==============================] - 17s 44ms/step - loss: 10.4114 - accuracy: 0.5215\n",
      "Epoch 8/10\n",
      "392/392 [==============================] - 18s 45ms/step - loss: 10.1881 - accuracy: 0.5356\n",
      "Epoch 9/10\n",
      "392/392 [==============================] - 18s 47ms/step - loss: 11.0164 - accuracy: 0.5270\n",
      "Epoch 10/10\n",
      "392/392 [==============================] - 17s 45ms/step - loss: 9.6914 - accuracy: 0.5603\n"
     ]
    },
    {
     "data": {
      "text/plain": [
       "<tensorflow.python.keras.callbacks.History at 0x2b731e070>"
      ]
     },
     "execution_count": 12,
     "metadata": {},
     "output_type": "execute_result"
    }
   ],
   "source": [
    "# from tensorflow.keras.applications.inception_v3 import Inception_v3\n",
    "# model_3 = Inception_v3(weights='imagenet')\n",
    "\n",
    "model_3 = tf.keras.applications.inception_v3.InceptionV3(\n",
    "    include_top=False, weights='imagenet', input_tensor=None,\n",
    "    input_shape=(128,128,3))\n",
    "\n",
    "for layer in model_3.layers:\n",
    "  layer.trainable = False\n",
    "\n",
    "dummy = keras.Sequential([ \n",
    "    keras.layers.Flatten(),\n",
    "#     keras.layers.Dense(900, activation = 'relu'),\n",
    "    keras.layers.Dense(151, activation= 'softmax')\n",
    "])\n",
    "\n",
    "model_VGG = keras.Sequential([\n",
    "      model_3, dummy\n",
    "])\n",
    "\n",
    "print(model_VGG.summary())\n",
    "\n",
    "model_VGG.compile ( \n",
    "      optimizer = tf.keras.optimizers.Adam(),\n",
    "      loss = 'categorical_crossentropy',\n",
    "      metrics=['accuracy']\n",
    ")\n",
    "\n",
    "\n",
    "model_VGG.fit(train_generator, epochs = 10, batch_size=20) "
   ]
  },
  {
   "cell_type": "code",
   "execution_count": null,
   "metadata": {},
   "outputs": [],
   "source": []
  }
 ],
 "metadata": {
  "interpreter": {
   "hash": "c39efb5bebe45ff3f1f197affb0471c986a61ca2ebf90e41e363fed5a626826c"
  },
  "kernelspec": {
   "display_name": "Python 3.9.7 ('tensorflow')",
   "language": "python",
   "name": "python3"
  },
  "language_info": {
   "codemirror_mode": {
    "name": "ipython",
    "version": 3
   },
   "file_extension": ".py",
   "mimetype": "text/x-python",
   "name": "python",
   "nbconvert_exporter": "python",
   "pygments_lexer": "ipython3",
   "version": "3.9.7"
  },
  "orig_nbformat": 4
 },
 "nbformat": 4,
 "nbformat_minor": 2
}
